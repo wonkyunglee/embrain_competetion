{
 "cells": [
  {
   "cell_type": "code",
   "execution_count": 12,
   "metadata": {},
   "outputs": [],
   "source": [
    "import csv\n",
    "import numpy as np\n",
    "import matplotlib.pyplot as plt\n",
    "%matplotlib inline\n"
   ]
  },
  {
   "cell_type": "code",
   "execution_count": 10,
   "metadata": {},
   "outputs": [
    {
     "name": "stdout",
     "output_type": "stream",
     "text": [
      "2499\n"
     ]
    }
   ],
   "source": [
    "# get panel_len\n",
    "with open('data_small.csv', 'r') as f:\n",
    "    reader = csv.DictReader(f)\n",
    "    panel_len = 0\n",
    "    for row in reader:\n",
    "        panel_len += 1\n",
    "print(panel_len)"
   ]
  },
  {
   "cell_type": "code",
   "execution_count": 22,
   "metadata": {},
   "outputs": [],
   "source": [
    "fid_dict = dict()\n",
    "NULL_VALUE = -1\n",
    "with open('data_small.csv', 'r') as f:\n",
    "    reader = csv.DictReader(f)\n",
    "    fieldnames = reader.fieldnames\n",
    "    fid_index = fieldnames[0]\n",
    "    date_index = fieldnames[1]\n",
    "    question_codes = fieldnames[2:]\n",
    "    question_len = len(question_codes)\n",
    "    data = np.zeros((panel_len, question_len))\n",
    "    \n",
    "    for panel_id, row in enumerate(reader):\n",
    "        fid = row[fid_index]\n",
    "        date = row[date_index]\n",
    "        fid_dict[fid] = panel_id\n",
    "        for question_id, question_code in enumerate(question_codes):\n",
    "            answer = row[question_code]\n",
    "            try:\n",
    "                data[panel_id, question_id] = float(row[question_code])\n",
    "            except ValueError as e:\n",
    "                if answer == 'NULL' or answer == ' ':\n",
    "                    data[panel_id, question_id] = NULL_VALUE\n",
    "                else:\n",
    "                    print(e)\n",
    "                    print('question_code : %s, answer : %s'%(question_code, answer))"
   ]
  },
  {
   "cell_type": "code",
   "execution_count": 24,
   "metadata": {},
   "outputs": [
    {
     "data": {
      "text/plain": [
       "(2499, 699)"
      ]
     },
     "execution_count": 24,
     "metadata": {},
     "output_type": "execute_result"
    }
   ],
   "source": [
    "data.shape"
   ]
  },
  {
   "cell_type": "code",
   "execution_count": 31,
   "metadata": {},
   "outputs": [],
   "source": [
    "# data exploration"
   ]
  },
  {
   "cell_type": "code",
   "execution_count": 44,
   "metadata": {},
   "outputs": [],
   "source": [
    "def get_answer(fid, question_code):\n",
    "    return data[fid_dict[fid], question_codes.index(question_code)]\n",
    "    \n",
    "\n",
    "def plot_histogram(question_code):\n",
    "    tmp_data = np.reshape(data[:, question_codes.index(question_code)], -1)\n",
    "    plt.hist(tmp_data)"
   ]
  },
  {
   "cell_type": "code",
   "execution_count": 45,
   "metadata": {},
   "outputs": [
    {
     "data": {
      "text/plain": [
       "4.0"
      ]
     },
     "execution_count": 45,
     "metadata": {},
     "output_type": "execute_result"
    }
   ],
   "source": [
    "get_answer('A0000056', 'X0002')"
   ]
  },
  {
   "cell_type": "code",
   "execution_count": 72,
   "metadata": {},
   "outputs": [
    {
     "data": {
      "image/png": "[encoded data removed]",
      "text/plain": [
       "<Figure size 432x288 with 1 Axes>"
      ]
     },
     "metadata": {
      "needs_background": "light"
     },
     "output_type": "display_data"
    }
   ],
   "source": [
    "plot_histogram(question_codes[26])"
   ]
  },
  {
   "cell_type": "code",
   "execution_count": 27,
   "metadata": {},
   "outputs": [],
   "source": [
    "# abnormality"
   ]
  },
  {
   "cell_type": "code",
   "execution_count": 37,
   "metadata": {},
   "outputs": [],
   "source": [
    "tmp = np.reshape(data[:, 1:2], -1)"
   ]
  },
  {
   "cell_type": "code",
   "execution_count": null,
   "metadata": {},
   "outputs": [],
   "source": []
  },
  {
   "cell_type": "code",
   "execution_count": 38,
   "metadata": {},
   "outputs": [
    {
     "data": {
      "text/plain": [
       "(array([  42.,    0.,  886.,    0.,  825.,    0.,  514.,    0.,  186.,   46.]),\n",
       " array([ 1. ,  1.5,  2. ,  2.5,  3. ,  3.5,  4. ,  4.5,  5. ,  5.5,  6. ]),\n",
       " <a list of 10 Patch objects>)"
      ]
     },
     "execution_count": 38,
     "metadata": {},
     "output_type": "execute_result"
    },
    {
     "data": {
      "image/png": "[encoded data removed]",
      "text/plain": [
       "<Figure size 432x288 with 1 Axes>"
      ]
     },
     "metadata": {
      "needs_background": "light"
     },
     "output_type": "display_data"
    }
   ],
   "source": [
    "plt.hist(tmp)"
   ]
  },
  {
   "cell_type": "code",
   "execution_count": null,
   "metadata": {},
   "outputs": [],
   "source": []
  }
 ],
 "metadata": {
  "kernelspec": {
   "display_name": "Python 3",
   "language": "python",
   "name": "python3"
  },
  "language_info": {
   "codemirror_mode": {
    "name": "ipython",
    "version": 3
   },
   "file_extension": ".py",
   "mimetype": "text/x-python",
   "name": "python",
   "nbconvert_exporter": "python",
   "pygments_lexer": "ipython3",
   "version": "3.6.8"
  }
 },
 "nbformat": 4,
 "nbformat_minor": 2
}
